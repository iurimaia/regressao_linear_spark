{
 "cells": [
  {
   "cell_type": "markdown",
   "metadata": {},
   "source": [
    "# Imports do spark sql"
   ]
  },
  {
   "cell_type": "code",
   "execution_count": 1,
   "metadata": {},
   "outputs": [],
   "source": [
    "from pyspark import SparkConf, SparkContext\n",
    "from pyspark.sql.session import SparkSession\n",
    "from pyspark.sql.functions import *\n",
    "from pyspark.sql.types import *"
   ]
  },
  {
   "cell_type": "markdown",
   "metadata": {},
   "source": [
    "# Imports do spark ML"
   ]
  },
  {
   "cell_type": "code",
   "execution_count": 2,
   "metadata": {},
   "outputs": [],
   "source": [
    "from pyspark.ml.regression import LinearRegression\n",
    "from pyspark.ml.linalg import Vectors\n",
    "from pyspark.ml.feature import VectorAssembler"
   ]
  },
  {
   "cell_type": "markdown",
   "metadata": {},
   "source": [
    "# Imports do Plotly para visualização em gráficos"
   ]
  },
  {
   "cell_type": "code",
   "execution_count": 3,
   "metadata": {},
   "outputs": [
    {
     "data": {
      "text/html": [
       "        <script type=\"text/javascript\">\n",
       "        window.PlotlyConfig = {MathJaxConfig: 'local'};\n",
       "        if (window.MathJax) {MathJax.Hub.Config({SVG: {font: \"STIX-Web\"}});}\n",
       "        if (typeof require !== 'undefined') {\n",
       "        require.undef(\"plotly\");\n",
       "        requirejs.config({\n",
       "            paths: {\n",
       "                'plotly': ['https://cdn.plot.ly/plotly-latest.min']\n",
       "            }\n",
       "        });\n",
       "        require(['plotly'], function(Plotly) {\n",
       "            window._Plotly = Plotly;\n",
       "        });\n",
       "        }\n",
       "        </script>\n",
       "        "
      ]
     },
     "metadata": {},
     "output_type": "display_data"
    }
   ],
   "source": [
    "import plotly.plotly as py\n",
    "import plotly.graph_objs as go\n",
    "from plotly.offline import download_plotlyjs, init_notebook_mode, plot, iplot\n",
    "init_notebook_mode(connected=True)"
   ]
  },
  {
   "cell_type": "markdown",
   "metadata": {},
   "source": [
    "# Configuração básica para utilização do spark"
   ]
  },
  {
   "cell_type": "code",
   "execution_count": 4,
   "metadata": {},
   "outputs": [],
   "source": [
    "conf = SparkConf().setMaster(\"local[10]\").setAppName(\"regressao_linear_simples\").set(\"spark.executor.memory\", \"14g\")\n",
    "spark = SparkSession.builder.config(conf=conf).enableHiveSupport().getOrCreate()"
   ]
  },
  {
   "cell_type": "markdown",
   "metadata": {},
   "source": [
    "# Criação do schema do arquivo que será carregado para  o dataframe spark"
   ]
  },
  {
   "cell_type": "code",
   "execution_count": 5,
   "metadata": {},
   "outputs": [],
   "source": [
    "file_schema = StructType([ StructField(\"semanas\", IntegerType(), True),\n",
    "                           StructField(\"clientes\", IntegerType(), True),\n",
    "                           StructField(\"vendas\", DoubleType(), True)])"
   ]
  },
  {
   "cell_type": "markdown",
   "metadata": {},
   "source": [
    "# Leitura do de arquivo csv para dataframe spark"
   ]
  },
  {
   "cell_type": "code",
   "execution_count": 6,
   "metadata": {},
   "outputs": [],
   "source": [
    "dataframe = spark.read.format(\"csv\") \\\n",
    "               .option(\"header\", \"true\") \\\n",
    "               .schema(file_schema) \\\n",
    "               .load('data.csv')"
   ]
  },
  {
   "cell_type": "markdown",
   "metadata": {},
   "source": [
    "# Visualização de 10 registros do dataframe"
   ]
  },
  {
   "cell_type": "code",
   "execution_count": 8,
   "metadata": {
    "scrolled": true
   },
   "outputs": [
    {
     "data": {
      "text/html": [
       "<div>\n",
       "<style scoped>\n",
       "    .dataframe tbody tr th:only-of-type {\n",
       "        vertical-align: middle;\n",
       "    }\n",
       "\n",
       "    .dataframe tbody tr th {\n",
       "        vertical-align: top;\n",
       "    }\n",
       "\n",
       "    .dataframe thead th {\n",
       "        text-align: right;\n",
       "    }\n",
       "</style>\n",
       "<table border=\"1\" class=\"dataframe\">\n",
       "  <thead>\n",
       "    <tr style=\"text-align: right;\">\n",
       "      <th></th>\n",
       "      <th>semanas</th>\n",
       "      <th>clientes</th>\n",
       "      <th>vendas</th>\n",
       "    </tr>\n",
       "  </thead>\n",
       "  <tbody>\n",
       "    <tr>\n",
       "      <th>0</th>\n",
       "      <td>1</td>\n",
       "      <td>907</td>\n",
       "      <td>11.20</td>\n",
       "    </tr>\n",
       "    <tr>\n",
       "      <th>1</th>\n",
       "      <td>2</td>\n",
       "      <td>926</td>\n",
       "      <td>11.05</td>\n",
       "    </tr>\n",
       "    <tr>\n",
       "      <th>2</th>\n",
       "      <td>3</td>\n",
       "      <td>506</td>\n",
       "      <td>6.84</td>\n",
       "    </tr>\n",
       "    <tr>\n",
       "      <th>3</th>\n",
       "      <td>4</td>\n",
       "      <td>741</td>\n",
       "      <td>9.21</td>\n",
       "    </tr>\n",
       "    <tr>\n",
       "      <th>4</th>\n",
       "      <td>5</td>\n",
       "      <td>789</td>\n",
       "      <td>9.42</td>\n",
       "    </tr>\n",
       "    <tr>\n",
       "      <th>5</th>\n",
       "      <td>6</td>\n",
       "      <td>889</td>\n",
       "      <td>10.08</td>\n",
       "    </tr>\n",
       "    <tr>\n",
       "      <th>6</th>\n",
       "      <td>7</td>\n",
       "      <td>874</td>\n",
       "      <td>9.45</td>\n",
       "    </tr>\n",
       "    <tr>\n",
       "      <th>7</th>\n",
       "      <td>8</td>\n",
       "      <td>510</td>\n",
       "      <td>6.73</td>\n",
       "    </tr>\n",
       "    <tr>\n",
       "      <th>8</th>\n",
       "      <td>9</td>\n",
       "      <td>529</td>\n",
       "      <td>7.24</td>\n",
       "    </tr>\n",
       "    <tr>\n",
       "      <th>9</th>\n",
       "      <td>10</td>\n",
       "      <td>420</td>\n",
       "      <td>6.12</td>\n",
       "    </tr>\n",
       "  </tbody>\n",
       "</table>\n",
       "</div>"
      ],
      "text/plain": [
       "   semanas  clientes  vendas\n",
       "0        1       907   11.20\n",
       "1        2       926   11.05\n",
       "2        3       506    6.84\n",
       "3        4       741    9.21\n",
       "4        5       789    9.42\n",
       "5        6       889   10.08\n",
       "6        7       874    9.45\n",
       "7        8       510    6.73\n",
       "8        9       529    7.24\n",
       "9       10       420    6.12"
      ]
     },
     "execution_count": 8,
     "metadata": {},
     "output_type": "execute_result"
    }
   ],
   "source": [
    "dataframe.limit(10).toPandas()"
   ]
  },
  {
   "cell_type": "markdown",
   "metadata": {},
   "source": [
    "# Vetorização das variáveis que serão utilizadas na regressão"
   ]
  },
  {
   "cell_type": "code",
   "execution_count": 9,
   "metadata": {},
   "outputs": [],
   "source": [
    "feature_assembler = VectorAssembler(inputCols=['clientes'],outputCol='independent_features')"
   ]
  },
  {
   "cell_type": "markdown",
   "metadata": {},
   "source": [
    "# Transformação do dataframe para criação da coluna com variáveis vetorizadas"
   ]
  },
  {
   "cell_type": "code",
   "execution_count": 10,
   "metadata": {
    "scrolled": true
   },
   "outputs": [
    {
     "data": {
      "text/html": [
       "<div>\n",
       "<style scoped>\n",
       "    .dataframe tbody tr th:only-of-type {\n",
       "        vertical-align: middle;\n",
       "    }\n",
       "\n",
       "    .dataframe tbody tr th {\n",
       "        vertical-align: top;\n",
       "    }\n",
       "\n",
       "    .dataframe thead th {\n",
       "        text-align: right;\n",
       "    }\n",
       "</style>\n",
       "<table border=\"1\" class=\"dataframe\">\n",
       "  <thead>\n",
       "    <tr style=\"text-align: right;\">\n",
       "      <th></th>\n",
       "      <th>semanas</th>\n",
       "      <th>clientes</th>\n",
       "      <th>vendas</th>\n",
       "      <th>independent_features</th>\n",
       "    </tr>\n",
       "  </thead>\n",
       "  <tbody>\n",
       "    <tr>\n",
       "      <th>0</th>\n",
       "      <td>1</td>\n",
       "      <td>907</td>\n",
       "      <td>11.20</td>\n",
       "      <td>[907.0]</td>\n",
       "    </tr>\n",
       "    <tr>\n",
       "      <th>1</th>\n",
       "      <td>2</td>\n",
       "      <td>926</td>\n",
       "      <td>11.05</td>\n",
       "      <td>[926.0]</td>\n",
       "    </tr>\n",
       "    <tr>\n",
       "      <th>2</th>\n",
       "      <td>3</td>\n",
       "      <td>506</td>\n",
       "      <td>6.84</td>\n",
       "      <td>[506.0]</td>\n",
       "    </tr>\n",
       "    <tr>\n",
       "      <th>3</th>\n",
       "      <td>4</td>\n",
       "      <td>741</td>\n",
       "      <td>9.21</td>\n",
       "      <td>[741.0]</td>\n",
       "    </tr>\n",
       "    <tr>\n",
       "      <th>4</th>\n",
       "      <td>5</td>\n",
       "      <td>789</td>\n",
       "      <td>9.42</td>\n",
       "      <td>[789.0]</td>\n",
       "    </tr>\n",
       "    <tr>\n",
       "      <th>5</th>\n",
       "      <td>6</td>\n",
       "      <td>889</td>\n",
       "      <td>10.08</td>\n",
       "      <td>[889.0]</td>\n",
       "    </tr>\n",
       "    <tr>\n",
       "      <th>6</th>\n",
       "      <td>7</td>\n",
       "      <td>874</td>\n",
       "      <td>9.45</td>\n",
       "      <td>[874.0]</td>\n",
       "    </tr>\n",
       "    <tr>\n",
       "      <th>7</th>\n",
       "      <td>8</td>\n",
       "      <td>510</td>\n",
       "      <td>6.73</td>\n",
       "      <td>[510.0]</td>\n",
       "    </tr>\n",
       "    <tr>\n",
       "      <th>8</th>\n",
       "      <td>9</td>\n",
       "      <td>529</td>\n",
       "      <td>7.24</td>\n",
       "      <td>[529.0]</td>\n",
       "    </tr>\n",
       "    <tr>\n",
       "      <th>9</th>\n",
       "      <td>10</td>\n",
       "      <td>420</td>\n",
       "      <td>6.12</td>\n",
       "      <td>[420.0]</td>\n",
       "    </tr>\n",
       "  </tbody>\n",
       "</table>\n",
       "</div>"
      ],
      "text/plain": [
       "   semanas  clientes  vendas independent_features\n",
       "0        1       907   11.20              [907.0]\n",
       "1        2       926   11.05              [926.0]\n",
       "2        3       506    6.84              [506.0]\n",
       "3        4       741    9.21              [741.0]\n",
       "4        5       789    9.42              [789.0]\n",
       "5        6       889   10.08              [889.0]\n",
       "6        7       874    9.45              [874.0]\n",
       "7        8       510    6.73              [510.0]\n",
       "8        9       529    7.24              [529.0]\n",
       "9       10       420    6.12              [420.0]"
      ]
     },
     "execution_count": 10,
     "metadata": {},
     "output_type": "execute_result"
    }
   ],
   "source": [
    "dataframe_vector = feature_assembler.transform(dataframe)\n",
    "dataframe_vector.limit(10).toPandas()"
   ]
  },
  {
   "cell_type": "markdown",
   "metadata": {},
   "source": [
    "# Convertendo o dado do spark para pandas Series"
   ]
  },
  {
   "cell_type": "code",
   "execution_count": 14,
   "metadata": {},
   "outputs": [],
   "source": [
    "clientes = dataframe_vector.select(col('clientes').cast('double')).toPandas().clientes\n",
    "vendas = dataframe_vector.select(col('vendas').cast('double')).toPandas().vendas"
   ]
  },
  {
   "cell_type": "markdown",
   "metadata": {},
   "source": [
    "# Plotagem para análise de clientes e vendas"
   ]
  },
  {
   "cell_type": "code",
   "execution_count": 15,
   "metadata": {
    "scrolled": false
   },
   "outputs": [
    {
     "data": {
      "application/vnd.plotly.v1+json": {
       "config": {
        "linkText": "Export to plot.ly",
        "plotlyServerURL": "https://plot.ly",
        "showLink": false
       },
       "data": [
        {
         "marker": {
          "color": "black"
         },
         "mode": "markers",
         "type": "scatter",
         "uid": "ebb1228d-03cb-4bf9-8d5f-a57e1f996e8e",
         "x": [
          907,
          926,
          506,
          741,
          789,
          889,
          874,
          510,
          529,
          420,
          679,
          872,
          924,
          607,
          425,
          729,
          794,
          844,
          1010,
          621
         ],
         "y": [
          11.2,
          11.05,
          6.84,
          9.21,
          9.42,
          10.08,
          9.45,
          6.73,
          7.24,
          6.12,
          7.63,
          9.43,
          9.46,
          7.64,
          6.92,
          8.95,
          9.33,
          10.23,
          11.77,
          7.41
         ]
        }
       ],
       "layout": {}
      },
      "text/html": [
       "<div>\n",
       "        \n",
       "        \n",
       "            <div id=\"5b30ca0a-1272-47a1-86dd-ea82618c825c\" class=\"plotly-graph-div\" style=\"height:525px; width:100%;\"></div>\n",
       "            <script type=\"text/javascript\">\n",
       "                require([\"plotly\"], function(Plotly) {\n",
       "                    window.PLOTLYENV=window.PLOTLYENV || {};\n",
       "                    window.PLOTLYENV.BASE_URL='https://plot.ly';\n",
       "                    \n",
       "                if (document.getElementById(\"5b30ca0a-1272-47a1-86dd-ea82618c825c\")) {\n",
       "                    Plotly.newPlot(\n",
       "                        '5b30ca0a-1272-47a1-86dd-ea82618c825c',\n",
       "                        [{\"marker\": {\"color\": \"black\"}, \"mode\": \"markers\", \"type\": \"scatter\", \"uid\": \"ebb1228d-03cb-4bf9-8d5f-a57e1f996e8e\", \"x\": [907.0, 926.0, 506.0, 741.0, 789.0, 889.0, 874.0, 510.0, 529.0, 420.0, 679.0, 872.0, 924.0, 607.0, 425.0, 729.0, 794.0, 844.0, 1010.0, 621.0], \"y\": [11.2, 11.05, 6.84, 9.21, 9.42, 10.08, 9.45, 6.73, 7.24, 6.12, 7.63, 9.43, 9.46, 7.64, 6.92, 8.95, 9.33, 10.23, 11.77, 7.41]}],\n",
       "                        {},\n",
       "                        {\"responsive\": true, \"plotlyServerURL\": \"https://plot.ly\", \"linkText\": \"Export to plot.ly\", \"showLink\": false}\n",
       "                    ).then(function(){\n",
       "                            \n",
       "var gd = document.getElementById('5b30ca0a-1272-47a1-86dd-ea82618c825c');\n",
       "var x = new MutationObserver(function (mutations, observer) {{\n",
       "        var display = window.getComputedStyle(gd).display;\n",
       "        if (!display || display === 'none') {{\n",
       "            console.log([gd, 'removed!']);\n",
       "            Plotly.purge(gd);\n",
       "            observer.disconnect();\n",
       "        }}\n",
       "}});\n",
       "\n",
       "// Listen for the removal of the full notebook cells\n",
       "var notebookContainer = gd.closest('#notebook-container');\n",
       "if (notebookContainer) {{\n",
       "    x.observe(notebookContainer, {childList: true});\n",
       "}}\n",
       "\n",
       "// Listen for the clearing of the current output cell\n",
       "var outputEl = gd.closest('.output');\n",
       "if (outputEl) {{\n",
       "    x.observe(outputEl, {childList: true});\n",
       "}}\n",
       "\n",
       "                        })\n",
       "                };\n",
       "                });\n",
       "            </script>\n",
       "        </div>"
      ]
     },
     "metadata": {},
     "output_type": "display_data"
    }
   ],
   "source": [
    "p1 = go.Scatter(x=clientes, \n",
    "                y=vendas, \n",
    "                mode='markers',\n",
    "                marker=dict(color='black')\n",
    "               )\n",
    "\n",
    "iplot([p1], filename='clientes')"
   ]
  },
  {
   "cell_type": "markdown",
   "metadata": {},
   "source": [
    "# Separação do dataframe em 75% treinamento e 25% teste"
   ]
  },
  {
   "cell_type": "code",
   "execution_count": 16,
   "metadata": {},
   "outputs": [],
   "source": [
    "train_data,test_data = dataframe_vector.randomSplit([0.75,0.25])"
   ]
  },
  {
   "cell_type": "markdown",
   "metadata": {},
   "source": [
    "# Criação do modelo de regressão linear a partir dos dados de trainamento"
   ]
  },
  {
   "cell_type": "code",
   "execution_count": 17,
   "metadata": {},
   "outputs": [],
   "source": [
    "regressor = LinearRegression(featuresCol='independent_features',labelCol='vendas')\n",
    "model = regressor.fit(train_data)"
   ]
  },
  {
   "cell_type": "markdown",
   "metadata": {},
   "source": [
    "# Visualização dos coeficientes e intercept"
   ]
  },
  {
   "cell_type": "code",
   "execution_count": 18,
   "metadata": {},
   "outputs": [
    {
     "name": "stdout",
     "output_type": "stream",
     "text": [
      "Coefficients: [0.009495397410272971]\n",
      "Intercept: 1.9099898486\n"
     ]
    }
   ],
   "source": [
    "print(\"Coefficients: %s\" % str(model.coefficients))\n",
    "print(\"Intercept: %s\" % str(model.intercept))"
   ]
  },
  {
   "cell_type": "markdown",
   "metadata": {},
   "source": [
    "# Visualização do número de iterações"
   ]
  },
  {
   "cell_type": "code",
   "execution_count": 19,
   "metadata": {},
   "outputs": [
    {
     "name": "stdout",
     "output_type": "stream",
     "text": [
      "numIterations: 1\n",
      "objectiveHistory: [0.0]\n"
     ]
    }
   ],
   "source": [
    "training_summary = model.summary\n",
    "print(\"numIterations: %d\" % training_summary.totalIterations)\n",
    "print(\"objectiveHistory: %s\" % str(training_summary.objectiveHistory))"
   ]
  },
  {
   "cell_type": "markdown",
   "metadata": {},
   "source": [
    "# Visualização de resíduo"
   ]
  },
  {
   "cell_type": "code",
   "execution_count": 20,
   "metadata": {},
   "outputs": [
    {
     "data": {
      "text/html": [
       "<div>\n",
       "<style scoped>\n",
       "    .dataframe tbody tr th:only-of-type {\n",
       "        vertical-align: middle;\n",
       "    }\n",
       "\n",
       "    .dataframe tbody tr th {\n",
       "        vertical-align: top;\n",
       "    }\n",
       "\n",
       "    .dataframe thead th {\n",
       "        text-align: right;\n",
       "    }\n",
       "</style>\n",
       "<table border=\"1\" class=\"dataframe\">\n",
       "  <thead>\n",
       "    <tr style=\"text-align: right;\">\n",
       "      <th></th>\n",
       "      <th>residuals</th>\n",
       "    </tr>\n",
       "  </thead>\n",
       "  <tbody>\n",
       "    <tr>\n",
       "      <th>0</th>\n",
       "      <td>0.677685</td>\n",
       "    </tr>\n",
       "    <tr>\n",
       "      <th>1</th>\n",
       "      <td>0.125339</td>\n",
       "    </tr>\n",
       "    <tr>\n",
       "      <th>2</th>\n",
       "      <td>0.263921</td>\n",
       "    </tr>\n",
       "    <tr>\n",
       "      <th>3</th>\n",
       "      <td>0.018142</td>\n",
       "    </tr>\n",
       "    <tr>\n",
       "      <th>4</th>\n",
       "      <td>-0.271398</td>\n",
       "    </tr>\n",
       "    <tr>\n",
       "      <th>5</th>\n",
       "      <td>-0.758967</td>\n",
       "    </tr>\n",
       "    <tr>\n",
       "      <th>6</th>\n",
       "      <td>0.306945</td>\n",
       "    </tr>\n",
       "    <tr>\n",
       "      <th>7</th>\n",
       "      <td>0.221943</td>\n",
       "    </tr>\n",
       "    <tr>\n",
       "      <th>8</th>\n",
       "      <td>-0.727365</td>\n",
       "    </tr>\n",
       "    <tr>\n",
       "      <th>9</th>\n",
       "      <td>-0.033696</td>\n",
       "    </tr>\n",
       "  </tbody>\n",
       "</table>\n",
       "</div>"
      ],
      "text/plain": [
       "   residuals\n",
       "0   0.677685\n",
       "1   0.125339\n",
       "2   0.263921\n",
       "3   0.018142\n",
       "4  -0.271398\n",
       "5  -0.758967\n",
       "6   0.306945\n",
       "7   0.221943\n",
       "8  -0.727365\n",
       "9  -0.033696"
      ]
     },
     "execution_count": 20,
     "metadata": {},
     "output_type": "execute_result"
    }
   ],
   "source": [
    "training_summary.residuals.limit(10).toPandas()"
   ]
  },
  {
   "cell_type": "markdown",
   "metadata": {},
   "source": [
    "# Visualização do RMSE e do r2 "
   ]
  },
  {
   "cell_type": "code",
   "execution_count": 21,
   "metadata": {},
   "outputs": [
    {
     "name": "stdout",
     "output_type": "stream",
     "text": [
      "RMSE: 0.384711\n",
      "r2: 0.941001\n"
     ]
    }
   ],
   "source": [
    "print(\"RMSE: %f\" % training_summary.rootMeanSquaredError)\n",
    "print(\"r2: %f\" % training_summary.r2)"
   ]
  },
  {
   "cell_type": "markdown",
   "metadata": {},
   "source": [
    "# Utilização dos dados de teste para verificar resultado de previsão"
   ]
  },
  {
   "cell_type": "code",
   "execution_count": 22,
   "metadata": {
    "scrolled": true
   },
   "outputs": [
    {
     "data": {
      "text/html": [
       "<div>\n",
       "<style scoped>\n",
       "    .dataframe tbody tr th:only-of-type {\n",
       "        vertical-align: middle;\n",
       "    }\n",
       "\n",
       "    .dataframe tbody tr th {\n",
       "        vertical-align: top;\n",
       "    }\n",
       "\n",
       "    .dataframe thead th {\n",
       "        text-align: right;\n",
       "    }\n",
       "</style>\n",
       "<table border=\"1\" class=\"dataframe\">\n",
       "  <thead>\n",
       "    <tr style=\"text-align: right;\">\n",
       "      <th></th>\n",
       "      <th>semanas</th>\n",
       "      <th>clientes</th>\n",
       "      <th>vendas</th>\n",
       "      <th>independent_features</th>\n",
       "      <th>prediction</th>\n",
       "    </tr>\n",
       "  </thead>\n",
       "  <tbody>\n",
       "    <tr>\n",
       "      <th>0</th>\n",
       "      <td>2</td>\n",
       "      <td>926</td>\n",
       "      <td>11.05</td>\n",
       "      <td>[926.0]</td>\n",
       "      <td>10.702728</td>\n",
       "    </tr>\n",
       "    <tr>\n",
       "      <th>1</th>\n",
       "      <td>8</td>\n",
       "      <td>510</td>\n",
       "      <td>6.73</td>\n",
       "      <td>[510.0]</td>\n",
       "      <td>6.752643</td>\n",
       "    </tr>\n",
       "    <tr>\n",
       "      <th>2</th>\n",
       "      <td>12</td>\n",
       "      <td>872</td>\n",
       "      <td>9.43</td>\n",
       "      <td>[872.0]</td>\n",
       "      <td>10.189976</td>\n",
       "    </tr>\n",
       "    <tr>\n",
       "      <th>3</th>\n",
       "      <td>13</td>\n",
       "      <td>924</td>\n",
       "      <td>9.46</td>\n",
       "      <td>[924.0]</td>\n",
       "      <td>10.683737</td>\n",
       "    </tr>\n",
       "    <tr>\n",
       "      <th>4</th>\n",
       "      <td>15</td>\n",
       "      <td>425</td>\n",
       "      <td>6.92</td>\n",
       "      <td>[425.0]</td>\n",
       "      <td>5.945534</td>\n",
       "    </tr>\n",
       "  </tbody>\n",
       "</table>\n",
       "</div>"
      ],
      "text/plain": [
       "   semanas  clientes  vendas independent_features  prediction\n",
       "0        2       926   11.05              [926.0]   10.702728\n",
       "1        8       510    6.73              [510.0]    6.752643\n",
       "2       12       872    9.43              [872.0]   10.189976\n",
       "3       13       924    9.46              [924.0]   10.683737\n",
       "4       15       425    6.92              [425.0]    5.945534"
      ]
     },
     "execution_count": 22,
     "metadata": {},
     "output_type": "execute_result"
    }
   ],
   "source": [
    "pred_result = model.evaluate(test_data)\n",
    "pred_result.predictions.limit(10).toPandas()"
   ]
  },
  {
   "cell_type": "markdown",
   "metadata": {},
   "source": [
    "# Plotagem final"
   ]
  },
  {
   "cell_type": "code",
   "execution_count": 28,
   "metadata": {},
   "outputs": [
    {
     "data": {
      "application/vnd.plotly.v1+json": {
       "config": {
        "linkText": "Export to plot.ly",
        "plotlyServerURL": "https://plot.ly",
        "showLink": false
       },
       "data": [
        {
         "marker": {
          "color": "black"
         },
         "mode": "markers",
         "type": "scatter",
         "uid": "40df7d12-74c3-4d27-9f16-e8ebd270ed05",
         "x": [
          907,
          926,
          506,
          741,
          789,
          889,
          874,
          510,
          529,
          420,
          679,
          872,
          924,
          607,
          425,
          729,
          794,
          844,
          1010,
          621
         ],
         "y": [
          11.2,
          11.05,
          6.84,
          9.21,
          9.42,
          10.08,
          9.45,
          6.73,
          7.24,
          6.12,
          7.63,
          9.43,
          9.46,
          7.64,
          6.92,
          8.95,
          9.33,
          10.23,
          11.77,
          7.41
         ]
        },
        {
         "line": {
          "color": "blue",
          "width": 3
         },
         "mode": "lines",
         "type": "scatter",
         "uid": "7c458190-0114-46a3-8285-baa892234dcb",
         "x": [
          907,
          926,
          506,
          741,
          789,
          889,
          874,
          510,
          529,
          420,
          679,
          872,
          924,
          607,
          425,
          729,
          794,
          844,
          1010,
          621
         ],
         "y": [
          10.522315299719185,
          10.702727850514371,
          6.714660938199724,
          8.946079329613871,
          9.401858405306974,
          10.351398146334272,
          10.208967185180178,
          6.752642527840816,
          6.933055078636003,
          5.898056760916249,
          8.357364690176947,
          10.189976390359632,
          10.683737055693825,
          7.673696076637294,
          5.945533747967613,
          8.832134560690596,
          9.44933539235834,
          9.924105262871988,
          11.500341232977302,
          7.806631640381116
         ]
        }
       ],
       "layout": {}
      },
      "text/html": [
       "<div>\n",
       "        \n",
       "        \n",
       "            <div id=\"8091723f-4fc4-4194-9616-e4d22e7e6f17\" class=\"plotly-graph-div\" style=\"height:525px; width:100%;\"></div>\n",
       "            <script type=\"text/javascript\">\n",
       "                require([\"plotly\"], function(Plotly) {\n",
       "                    window.PLOTLYENV=window.PLOTLYENV || {};\n",
       "                    window.PLOTLYENV.BASE_URL='https://plot.ly';\n",
       "                    \n",
       "                if (document.getElementById(\"8091723f-4fc4-4194-9616-e4d22e7e6f17\")) {\n",
       "                    Plotly.newPlot(\n",
       "                        '8091723f-4fc4-4194-9616-e4d22e7e6f17',\n",
       "                        [{\"marker\": {\"color\": \"black\"}, \"mode\": \"markers\", \"type\": \"scatter\", \"uid\": \"40df7d12-74c3-4d27-9f16-e8ebd270ed05\", \"x\": [907.0, 926.0, 506.0, 741.0, 789.0, 889.0, 874.0, 510.0, 529.0, 420.0, 679.0, 872.0, 924.0, 607.0, 425.0, 729.0, 794.0, 844.0, 1010.0, 621.0], \"y\": [11.2, 11.05, 6.84, 9.21, 9.42, 10.08, 9.45, 6.73, 7.24, 6.12, 7.63, 9.43, 9.46, 7.64, 6.92, 8.95, 9.33, 10.23, 11.77, 7.41]}, {\"line\": {\"color\": \"blue\", \"width\": 3}, \"mode\": \"lines\", \"type\": \"scatter\", \"uid\": \"7c458190-0114-46a3-8285-baa892234dcb\", \"x\": [907.0, 926.0, 506.0, 741.0, 789.0, 889.0, 874.0, 510.0, 529.0, 420.0, 679.0, 872.0, 924.0, 607.0, 425.0, 729.0, 794.0, 844.0, 1010.0, 621.0], \"y\": [10.522315299719185, 10.702727850514371, 6.714660938199724, 8.946079329613871, 9.401858405306974, 10.351398146334272, 10.208967185180178, 6.752642527840816, 6.933055078636003, 5.898056760916249, 8.357364690176947, 10.189976390359632, 10.683737055693825, 7.673696076637294, 5.945533747967613, 8.832134560690596, 9.44933539235834, 9.924105262871988, 11.500341232977302, 7.806631640381116]}],\n",
       "                        {},\n",
       "                        {\"responsive\": true, \"plotlyServerURL\": \"https://plot.ly\", \"linkText\": \"Export to plot.ly\", \"showLink\": false}\n",
       "                    ).then(function(){\n",
       "                            \n",
       "var gd = document.getElementById('8091723f-4fc4-4194-9616-e4d22e7e6f17');\n",
       "var x = new MutationObserver(function (mutations, observer) {{\n",
       "        var display = window.getComputedStyle(gd).display;\n",
       "        if (!display || display === 'none') {{\n",
       "            console.log([gd, 'removed!']);\n",
       "            Plotly.purge(gd);\n",
       "            observer.disconnect();\n",
       "        }}\n",
       "}});\n",
       "\n",
       "// Listen for the removal of the full notebook cells\n",
       "var notebookContainer = gd.closest('#notebook-container');\n",
       "if (notebookContainer) {{\n",
       "    x.observe(notebookContainer, {childList: true});\n",
       "}}\n",
       "\n",
       "// Listen for the clearing of the current output cell\n",
       "var outputEl = gd.closest('.output');\n",
       "if (outputEl) {{\n",
       "    x.observe(outputEl, {childList: true});\n",
       "}}\n",
       "\n",
       "                        })\n",
       "                };\n",
       "                });\n",
       "            </script>\n",
       "        </div>"
      ]
     },
     "metadata": {},
     "output_type": "display_data"
    }
   ],
   "source": [
    "pred_result = model.evaluate(dataframe_vector)\n",
    "p1 = go.Scatter(x=clientes, \n",
    "                y=vendas, \n",
    "                mode='markers',\n",
    "                marker=dict(color='black')\n",
    "               )\n",
    "\n",
    "p2 = go.Scatter(x=clientes, \n",
    "                y=pred_result.predictions.toPandas().prediction,\n",
    "                mode='lines',\n",
    "                line=dict(color='blue', width=3)\n",
    "                )\n",
    "\n",
    "iplot([p1,p2], filename='Previsão')"
   ]
  }
 ],
 "metadata": {
  "kernelspec": {
   "display_name": "Python 3",
   "language": "python",
   "name": "python3"
  },
  "language_info": {
   "codemirror_mode": {
    "name": "ipython",
    "version": 2
   },
   "file_extension": ".py",
   "mimetype": "text/x-python",
   "name": "python",
   "nbconvert_exporter": "python",
   "pygments_lexer": "ipython2",
   "version": "2.7.9"
  }
 },
 "nbformat": 4,
 "nbformat_minor": 2
}
